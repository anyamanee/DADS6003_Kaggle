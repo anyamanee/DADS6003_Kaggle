{
 "cells": [
  {
   "cell_type": "markdown",
   "id": "43485cce",
   "metadata": {
    "papermill": {
     "duration": 0.011587,
     "end_time": "2022-06-12T15:55:57.431092",
     "exception": false,
     "start_time": "2022-06-12T15:55:57.419505",
     "status": "completed"
    },
    "tags": []
   },
   "source": [
    "# Name: Anyamanee Pornpavattana [Ploy]\n",
    "# ID:6410422031\n",
    "# My score: 0.988 (#4)"
   ]
  },
  {
   "cell_type": "code",
   "execution_count": 1,
   "id": "f317d9bd",
   "metadata": {
    "_cell_guid": "b1076dfc-b9ad-4769-8c92-a6c4dae69d19",
    "_uuid": "8f2839f25d086af736a60e9eeb907d3b93b6e0e5",
    "execution": {
     "iopub.execute_input": "2022-06-12T15:55:57.448435Z",
     "iopub.status.busy": "2022-06-12T15:55:57.446709Z",
     "iopub.status.idle": "2022-06-12T15:55:57.465960Z",
     "shell.execute_reply": "2022-06-12T15:55:57.464892Z"
    },
    "papermill": {
     "duration": 0.031685,
     "end_time": "2022-06-12T15:55:57.470084",
     "exception": false,
     "start_time": "2022-06-12T15:55:57.438399",
     "status": "completed"
    },
    "tags": []
   },
   "outputs": [
    {
     "name": "stdout",
     "output_type": "stream",
     "text": [
      "/kaggle/input/dads6003-in-class-competition/sampleSubmission.csv\n",
      "/kaggle/input/dads6003-in-class-competition/train.csv\n",
      "/kaggle/input/dads6003-in-class-competition/test.csv\n"
     ]
    }
   ],
   "source": [
    "# This Python 3 environment comes with many helpful analytics libraries installed\n",
    "# It is defined by the kaggle/python Docker image: https://github.com/kaggle/docker-python\n",
    "# For example, here's several helpful packages to load\n",
    "\n",
    "import numpy as np # linear algebra\n",
    "import pandas as pd # data processing, CSV file I/O (e.g. pd.read_csv)\n",
    "\n",
    "# Input data files are available in the read-only \"../input/\" directory\n",
    "# For example, running this (by clicking run or pressing Shift+Enter) will list all files under the input directory\n",
    "\n",
    "import os\n",
    "for dirname, _, filenames in os.walk('/kaggle/input'):\n",
    "    for filename in filenames:\n",
    "        print(os.path.join(dirname, filename))\n",
    "\n",
    "# You can write up to 20GB to the current directory (/kaggle/working/) that gets preserved as output when you create a version using \"Save & Run All\" \n",
    "# You can also write temporary files to /kaggle/temp/, but they won't be saved outside of the current session"
   ]
  },
  {
   "cell_type": "code",
   "execution_count": 2,
   "id": "48246dcb",
   "metadata": {
    "execution": {
     "iopub.execute_input": "2022-06-12T15:55:57.488582Z",
     "iopub.status.busy": "2022-06-12T15:55:57.487221Z",
     "iopub.status.idle": "2022-06-12T15:55:59.071704Z",
     "shell.execute_reply": "2022-06-12T15:55:59.070767Z"
    },
    "papermill": {
     "duration": 1.596434,
     "end_time": "2022-06-12T15:55:59.074667",
     "exception": false,
     "start_time": "2022-06-12T15:55:57.478233",
     "status": "completed"
    },
    "tags": []
   },
   "outputs": [],
   "source": [
    "# Import Library\n",
    "import pandas as pd\n",
    "import numpy as np\n",
    "import seaborn as sns\n",
    "import matplotlib.pyplot as plt\n",
    "from sklearn.metrics import confusion_matrix,plot_confusion_matrix"
   ]
  },
  {
   "cell_type": "code",
   "execution_count": 3,
   "id": "bdb40fe0",
   "metadata": {
    "execution": {
     "iopub.execute_input": "2022-06-12T15:55:59.091257Z",
     "iopub.status.busy": "2022-06-12T15:55:59.090335Z",
     "iopub.status.idle": "2022-06-12T15:55:59.238903Z",
     "shell.execute_reply": "2022-06-12T15:55:59.237839Z"
    },
    "papermill": {
     "duration": 0.160165,
     "end_time": "2022-06-12T15:55:59.241883",
     "exception": false,
     "start_time": "2022-06-12T15:55:59.081718",
     "status": "completed"
    },
    "tags": []
   },
   "outputs": [
    {
     "name": "stdout",
     "output_type": "stream",
     "text": [
      "<class 'pandas.core.frame.DataFrame'>\n",
      "RangeIndex: 7500 entries, 0 to 7499\n",
      "Data columns (total 21 columns):\n",
      " #   Column  Non-Null Count  Dtype  \n",
      "---  ------  --------------  -----  \n",
      " 0   x1      7391 non-null   float64\n",
      " 1   x2      7466 non-null   float64\n",
      " 2   x3      7444 non-null   float64\n",
      " 3   x4      7407 non-null   float64\n",
      " 4   x5      7440 non-null   float64\n",
      " 5   x6      7382 non-null   float64\n",
      " 6   x7      7419 non-null   float64\n",
      " 7   x8      7365 non-null   float64\n",
      " 8   x9      7500 non-null   float64\n",
      " 9   x10     7421 non-null   float64\n",
      " 10  x11     7483 non-null   float64\n",
      " 11  x12     7488 non-null   float64\n",
      " 12  x13     7370 non-null   float64\n",
      " 13  x14     7376 non-null   float64\n",
      " 14  x15     7393 non-null   float64\n",
      " 15  x16     7407 non-null   float64\n",
      " 16  x17     7375 non-null   float64\n",
      " 17  x18     7480 non-null   float64\n",
      " 18  x19     7355 non-null   float64\n",
      " 19  x20     7374 non-null   float64\n",
      " 20  y       7500 non-null   int64  \n",
      "dtypes: float64(20), int64(1)\n",
      "memory usage: 1.2 MB\n",
      "<class 'pandas.core.frame.DataFrame'>\n",
      "RangeIndex: 2500 entries, 0 to 2499\n",
      "Data columns (total 20 columns):\n",
      " #   Column  Non-Null Count  Dtype  \n",
      "---  ------  --------------  -----  \n",
      " 0   x1      2500 non-null   float64\n",
      " 1   x2      2500 non-null   float64\n",
      " 2   x3      2500 non-null   float64\n",
      " 3   x4      2500 non-null   float64\n",
      " 4   x5      2500 non-null   float64\n",
      " 5   x6      2500 non-null   float64\n",
      " 6   x7      2500 non-null   float64\n",
      " 7   x8      2500 non-null   float64\n",
      " 8   x9      2500 non-null   float64\n",
      " 9   x10     2500 non-null   float64\n",
      " 10  x11     2500 non-null   float64\n",
      " 11  x12     2500 non-null   float64\n",
      " 12  x13     2500 non-null   float64\n",
      " 13  x14     2500 non-null   float64\n",
      " 14  x15     2500 non-null   float64\n",
      " 15  x16     2500 non-null   float64\n",
      " 16  x17     2500 non-null   float64\n",
      " 17  x18     2500 non-null   float64\n",
      " 18  x19     2500 non-null   float64\n",
      " 19  x20     2500 non-null   float64\n",
      "dtypes: float64(20)\n",
      "memory usage: 390.8 KB\n"
     ]
    }
   ],
   "source": [
    "#Read Dataset\n",
    "# Train set\n",
    "train_df = pd.read_csv('/kaggle/input/dads6003-in-class-competition/train.csv')\n",
    "train_df.info()\n",
    "# Test set\n",
    "test_df = pd.read_csv('/kaggle/input/dads6003-in-class-competition/test.csv')\n",
    "test_df.info()"
   ]
  },
  {
   "cell_type": "code",
   "execution_count": 4,
   "id": "797b470b",
   "metadata": {
    "execution": {
     "iopub.execute_input": "2022-06-12T15:55:59.258499Z",
     "iopub.status.busy": "2022-06-12T15:55:59.258025Z",
     "iopub.status.idle": "2022-06-12T15:55:59.489102Z",
     "shell.execute_reply": "2022-06-12T15:55:59.487650Z"
    },
    "papermill": {
     "duration": 0.242976,
     "end_time": "2022-06-12T15:55:59.492243",
     "exception": false,
     "start_time": "2022-06-12T15:55:59.249267",
     "status": "completed"
    },
    "tags": []
   },
   "outputs": [
    {
     "data": {
      "image/png": "[encoded data removed]",
      "text/plain": [
       "<Figure size 432x288 with 1 Axes>"
      ]
     },
     "metadata": {
      "needs_background": "light"
     },
     "output_type": "display_data"
    },
    {
     "name": "stdout",
     "output_type": "stream",
     "text": [
      "% of y_1 in train dataset:  25.266666666666666\n",
      "% of y_0 in train dataset:  74.73333333333333\n"
     ]
    }
   ],
   "source": [
    "#Check Class of Train Data\n",
    "# Train set plot\n",
    "fig , ax = plt.subplots(figsize=(6,4))\n",
    "sns.countplot(x='y', data=train_df)\n",
    "plt.title(\"Count of Y\")\n",
    "plt.show()\n",
    "\n",
    "n=len(train_df)\n",
    "y_0=len(train_df[train_df['y']==0])\n",
    "y_1=len(train_df[train_df['y']==1])\n",
    "\n",
    "print(\"% of y_1 in train dataset: \",y_1*100/n)\n",
    "print(\"% of y_0 in train dataset: \",y_0*100/n)"
   ]
  },
  {
   "cell_type": "code",
   "execution_count": 5,
   "id": "5f0fdbdb",
   "metadata": {
    "execution": {
     "iopub.execute_input": "2022-06-12T15:55:59.511263Z",
     "iopub.status.busy": "2022-06-12T15:55:59.510231Z",
     "iopub.status.idle": "2022-06-12T15:56:00.811375Z",
     "shell.execute_reply": "2022-06-12T15:56:00.810398Z"
    },
    "papermill": {
     "duration": 1.31442,
     "end_time": "2022-06-12T15:56:00.814637",
     "exception": false,
     "start_time": "2022-06-12T15:55:59.500217",
     "status": "completed"
    },
    "tags": []
   },
   "outputs": [
    {
     "data": {
      "image/png": "[encoded data removed]",
      "text/plain": [
       "<Figure size 1080x1080 with 2 Axes>"
      ]
     },
     "metadata": {
      "needs_background": "light"
     },
     "output_type": "display_data"
    }
   ],
   "source": [
    "#Using Pearson Correlation\n",
    "plt.figure(figsize=(15,15))\n",
    "cor = train_df.corr()\n",
    "\n",
    "mask = np.zeros_like(cor)\n",
    "mask[np.triu_indices_from(mask)] = True\n",
    "\n",
    "sns.heatmap(cor,mask =mask, annot=True, cmap=plt.cm.Reds)\n",
    "plt.show()\n",
    "\n",
    "#Correlation with output variable\n",
    "cor_target = abs(cor[\"y\"])\n",
    "#Selecting highly correlated features\n",
    "relevant_features = cor_target[cor_target>0.009]"
   ]
  },
  {
   "cell_type": "markdown",
   "id": "c5d7881c",
   "metadata": {
    "papermill": {
     "duration": 0.009157,
     "end_time": "2022-06-12T15:56:00.833496",
     "exception": false,
     "start_time": "2022-06-12T15:56:00.824339",
     "status": "completed"
    },
    "tags": []
   },
   "source": [
    "# Split Dataset"
   ]
  },
  {
   "cell_type": "code",
   "execution_count": 6,
   "id": "5b1d2580",
   "metadata": {
    "execution": {
     "iopub.execute_input": "2022-06-12T15:56:00.854191Z",
     "iopub.status.busy": "2022-06-12T15:56:00.853723Z",
     "iopub.status.idle": "2022-06-12T15:56:00.909597Z",
     "shell.execute_reply": "2022-06-12T15:56:00.908665Z"
    },
    "papermill": {
     "duration": 0.069091,
     "end_time": "2022-06-12T15:56:00.912047",
     "exception": false,
     "start_time": "2022-06-12T15:56:00.842956",
     "status": "completed"
    },
    "tags": []
   },
   "outputs": [],
   "source": [
    "# Fill data by using mode\n",
    "fill_mode = lambda col: col.fillna(col.mode())\n",
    "train_df = train_df.apply(fill_mode, axis=0)\n",
    "#train_df.info()"
   ]
  },
  {
   "cell_type": "code",
   "execution_count": 7,
   "id": "a06d57b4",
   "metadata": {
    "execution": {
     "iopub.execute_input": "2022-06-12T15:56:00.933300Z",
     "iopub.status.busy": "2022-06-12T15:56:00.932792Z",
     "iopub.status.idle": "2022-06-12T15:56:00.962576Z",
     "shell.execute_reply": "2022-06-12T15:56:00.961451Z"
    },
    "papermill": {
     "duration": 0.043899,
     "end_time": "2022-06-12T15:56:00.965491",
     "exception": false,
     "start_time": "2022-06-12T15:56:00.921592",
     "status": "completed"
    },
    "tags": []
   },
   "outputs": [
    {
     "name": "stdout",
     "output_type": "stream",
     "text": [
      "           x2         x3          x6          x7         x8            x9  \\\n",
      "0 -166.447703  57.634618  773.535357 -425.516507  19.541551  102333.24180   \n",
      "1 -175.583196  61.413742  592.665369 -154.993322  17.165756   56410.00878   \n",
      "2 -266.301983  43.228042  912.741203 -337.001477  18.362978   37204.35472   \n",
      "\n",
      "         x10       x12         x14        x15  y  \n",
      "0  37.515512  1.177903   65.320993  10.856422  0  \n",
      "1  33.667832  6.288225  124.629610  19.519498  0  \n",
      "2  24.194495  5.241047  136.536890  16.824492  1  \n",
      "X => (7486, 10) \n",
      "Y => (7486, 1)\n",
      "           x2         x3          x6          x7         x8            x9  \\\n",
      "0 -166.447703  57.634618  773.535357 -425.516507  19.541551  102333.24180   \n",
      "1 -175.583196  61.413742  592.665369 -154.993322  17.165756   56410.00878   \n",
      "2 -266.301983  43.228042  912.741203 -337.001477  18.362978   37204.35472   \n",
      "\n",
      "         x10       x12         x14        x15  \n",
      "0  37.515512  1.177903   65.320993  10.856422  \n",
      "1  33.667832  6.288225  124.629610  19.519498  \n",
      "2  24.194495  5.241047  136.536890  16.824492  \n"
     ]
    }
   ],
   "source": [
    "# Select Features\n",
    "ip_train = train_df.copy()\n",
    "\n",
    "cols =[\"x2\",\"x3\",\"x6\",\"x7\",\"x8\",\"x9\",\"x10\",\"x12\",\"x14\",\"x15\",\"y\"]\n",
    "\n",
    "ip_train = ip_train.loc[:,cols]\n",
    "ip_train =ip_train.dropna() #Drop data NA\n",
    "print(ip_train.head(3))\n",
    "\n",
    "num_cols = cols[0:-1]\n",
    "\n",
    "X = ip_train.loc[:,num_cols]\n",
    "Y = ip_train.loc[:,[\"y\"]]\n",
    "\n",
    "print(f'X => {X.shape} \\nY => {Y.shape}')\n",
    "print(X.head(3))"
   ]
  },
  {
   "cell_type": "code",
   "execution_count": 8,
   "id": "9504195e",
   "metadata": {
    "execution": {
     "iopub.execute_input": "2022-06-12T15:56:00.986192Z",
     "iopub.status.busy": "2022-06-12T15:56:00.985695Z",
     "iopub.status.idle": "2022-06-12T15:56:01.017087Z",
     "shell.execute_reply": "2022-06-12T15:56:01.015826Z"
    },
    "papermill": {
     "duration": 0.04496,
     "end_time": "2022-06-12T15:56:01.019832",
     "exception": false,
     "start_time": "2022-06-12T15:56:00.974872",
     "status": "completed"
    },
    "tags": []
   },
   "outputs": [
    {
     "data": {
      "text/plain": [
       "((5614, 10), (5614, 1), (1872, 10), (1872, 1))"
      ]
     },
     "execution_count": 8,
     "metadata": {},
     "output_type": "execute_result"
    }
   ],
   "source": [
    "from sklearn.model_selection import train_test_split\n",
    "# Data split (75/25 ratio)\n",
    "X_train, X_test, Y_train, Y_test = train_test_split(X, Y, test_size=0.25,random_state=128)\n",
    "X_train.shape, Y_train.shape,X_test.shape, Y_test.shape"
   ]
  },
  {
   "cell_type": "code",
   "execution_count": 9,
   "id": "5828438a",
   "metadata": {
    "execution": {
     "iopub.execute_input": "2022-06-12T15:56:01.042163Z",
     "iopub.status.busy": "2022-06-12T15:56:01.041419Z",
     "iopub.status.idle": "2022-06-12T15:56:02.773647Z",
     "shell.execute_reply": "2022-06-12T15:56:02.770809Z"
    },
    "papermill": {
     "duration": 1.748086,
     "end_time": "2022-06-12T15:56:02.778454",
     "exception": false,
     "start_time": "2022-06-12T15:56:01.030368",
     "status": "completed"
    },
    "tags": []
   },
   "outputs": [
    {
     "name": "stderr",
     "output_type": "stream",
     "text": [
      "/opt/conda/lib/python3.7/site-packages/sklearn/neural_network/_multilayer_perceptron.py:1109: DataConversionWarning: A column-vector y was passed when a 1d array was expected. Please change the shape of y to (n_samples, ), for example using ravel().\n",
      "  y = column_or_1d(y, warn=True)\n",
      "/opt/conda/lib/python3.7/site-packages/sklearn/neural_network/_multilayer_perceptron.py:549: ConvergenceWarning: lbfgs failed to converge (status=1):\n",
      "STOP: TOTAL NO. of ITERATIONS REACHED LIMIT.\n",
      "\n",
      "Increase the number of iterations (max_iter) or scale the data as shown in:\n",
      "    https://scikit-learn.org/stable/modules/preprocessing.html\n",
      "  self.n_iter_ = _check_optimize_result(\"lbfgs\", opt_res, self.max_iter)\n",
      "/opt/conda/lib/python3.7/site-packages/sklearn/neural_network/_multilayer_perceptron.py:1109: DataConversionWarning: A column-vector y was passed when a 1d array was expected. Please change the shape of y to (n_samples, ), for example using ravel().\n",
      "  y = column_or_1d(y, warn=True)\n",
      "/opt/conda/lib/python3.7/site-packages/sklearn/neural_network/_multilayer_perceptron.py:549: ConvergenceWarning: lbfgs failed to converge (status=1):\n",
      "STOP: TOTAL NO. of ITERATIONS REACHED LIMIT.\n",
      "\n",
      "Increase the number of iterations (max_iter) or scale the data as shown in:\n",
      "    https://scikit-learn.org/stable/modules/preprocessing.html\n",
      "  self.n_iter_ = _check_optimize_result(\"lbfgs\", opt_res, self.max_iter)\n",
      "/opt/conda/lib/python3.7/site-packages/sklearn/neural_network/_multilayer_perceptron.py:1109: DataConversionWarning: A column-vector y was passed when a 1d array was expected. Please change the shape of y to (n_samples, ), for example using ravel().\n",
      "  y = column_or_1d(y, warn=True)\n",
      "/opt/conda/lib/python3.7/site-packages/sklearn/neural_network/_multilayer_perceptron.py:549: ConvergenceWarning: lbfgs failed to converge (status=1):\n",
      "STOP: TOTAL NO. of ITERATIONS REACHED LIMIT.\n",
      "\n",
      "Increase the number of iterations (max_iter) or scale the data as shown in:\n",
      "    https://scikit-learn.org/stable/modules/preprocessing.html\n",
      "  self.n_iter_ = _check_optimize_result(\"lbfgs\", opt_res, self.max_iter)\n"
     ]
    }
   ],
   "source": [
    "#Model All\n",
    "models = {}\n",
    "\n",
    "from sklearn.neural_network import MLPClassifier\n",
    "models['NN1']  = MLPClassifier(alpha= 0.001, hidden_layer_sizes= 13, max_iter= 100, random_state =128, solver= 'lbfgs')\n",
    "models['NN2']  = MLPClassifier(alpha= 1, hidden_layer_sizes= 13, max_iter= 100, random_state =128, solver= 'lbfgs')\n",
    "models['NN3'] = MLPClassifier(alpha= 1, hidden_layer_sizes= 11, max_iter= 100, random_state =1, solver= 'lbfgs')\n",
    "\n",
    "\n",
    "from sklearn.metrics import accuracy_score, precision_score, recall_score, f1_score\n",
    "accuracy, precision, recall, f1 = {}, {}, {}, {}\n",
    "\n",
    "from sklearn.preprocessing import StandardScaler\n",
    "scaler = StandardScaler()\n",
    "\n",
    "from sklearn.pipeline import Pipeline\n",
    "\n",
    "for key in models.keys():\n",
    "    \n",
    "    models[key]= Pipeline([('scaler',scaler),('clf',models[key])])\n",
    "    # Fit the classifier model\n",
    "    models[key].fit(X_train, Y_train)\n",
    "    \n",
    "    # Prediction \n",
    "    predictions = models[key].predict(X_test)\n",
    "    \n",
    "    # Calculate Accuracy, Precision and Recall Metrics\n",
    "    accuracy[key] = accuracy_score(predictions,Y_test)\n",
    "    precision[key] = precision_score(predictions, Y_test)\n",
    "    recall[key] = recall_score(predictions, Y_test)\n",
    "    f1[key] = f1_score(predictions, Y_test)\n"
   ]
  },
  {
   "cell_type": "code",
   "execution_count": 10,
   "id": "eab774e0",
   "metadata": {
    "execution": {
     "iopub.execute_input": "2022-06-12T15:56:02.819337Z",
     "iopub.status.busy": "2022-06-12T15:56:02.818569Z",
     "iopub.status.idle": "2022-06-12T15:56:02.857909Z",
     "shell.execute_reply": "2022-06-12T15:56:02.856586Z"
    },
    "papermill": {
     "duration": 0.065623,
     "end_time": "2022-06-12T15:56:02.862205",
     "exception": false,
     "start_time": "2022-06-12T15:56:02.796582",
     "status": "completed"
    },
    "tags": []
   },
   "outputs": [
    {
     "data": {
      "text/html": [
       "<div>\n",
       "<style scoped>\n",
       "    .dataframe tbody tr th:only-of-type {\n",
       "        vertical-align: middle;\n",
       "    }\n",
       "\n",
       "    .dataframe tbody tr th {\n",
       "        vertical-align: top;\n",
       "    }\n",
       "\n",
       "    .dataframe thead th {\n",
       "        text-align: right;\n",
       "    }\n",
       "</style>\n",
       "<table border=\"1\" class=\"dataframe\">\n",
       "  <thead>\n",
       "    <tr style=\"text-align: right;\">\n",
       "      <th></th>\n",
       "      <th>Accuracy</th>\n",
       "      <th>Precision</th>\n",
       "      <th>Recall</th>\n",
       "      <th>F1</th>\n",
       "    </tr>\n",
       "  </thead>\n",
       "  <tbody>\n",
       "    <tr>\n",
       "      <th>NN1</th>\n",
       "      <td>0.979167</td>\n",
       "      <td>0.953684</td>\n",
       "      <td>0.963830</td>\n",
       "      <td>0.958730</td>\n",
       "    </tr>\n",
       "    <tr>\n",
       "      <th>NN2</th>\n",
       "      <td>0.982372</td>\n",
       "      <td>0.960000</td>\n",
       "      <td>0.970213</td>\n",
       "      <td>0.965079</td>\n",
       "    </tr>\n",
       "    <tr>\n",
       "      <th>NN3</th>\n",
       "      <td>0.980769</td>\n",
       "      <td>0.960000</td>\n",
       "      <td>0.964059</td>\n",
       "      <td>0.962025</td>\n",
       "    </tr>\n",
       "  </tbody>\n",
       "</table>\n",
       "</div>"
      ],
      "text/plain": [
       "     Accuracy  Precision    Recall        F1\n",
       "NN1  0.979167   0.953684  0.963830  0.958730\n",
       "NN2  0.982372   0.960000  0.970213  0.965079\n",
       "NN3  0.980769   0.960000  0.964059  0.962025"
      ]
     },
     "execution_count": 10,
     "metadata": {},
     "output_type": "execute_result"
    }
   ],
   "source": [
    "import pandas as pd\n",
    "\n",
    "df_model = pd.DataFrame(index=models.keys(), columns=['Accuracy', 'Precision', 'Recall', 'F1'])\n",
    "df_model['Accuracy'] = accuracy.values()\n",
    "df_model['Precision'] = precision.values()\n",
    "df_model['Recall'] = recall.values()\n",
    "df_model['F1'] = f1.values()\n",
    "\n",
    "df_model"
   ]
  },
  {
   "cell_type": "code",
   "execution_count": 11,
   "id": "43af3fec",
   "metadata": {
    "execution": {
     "iopub.execute_input": "2022-06-12T15:56:02.891668Z",
     "iopub.status.busy": "2022-06-12T15:56:02.891231Z",
     "iopub.status.idle": "2022-06-12T15:56:03.192301Z",
     "shell.execute_reply": "2022-06-12T15:56:03.191279Z"
    },
    "papermill": {
     "duration": 0.314606,
     "end_time": "2022-06-12T15:56:03.194599",
     "exception": false,
     "start_time": "2022-06-12T15:56:02.879993",
     "status": "completed"
    },
    "tags": []
   },
   "outputs": [
    {
     "data": {
      "image/png": "[encoded data removed]",
      "text/plain": [
       "<Figure size 432x288 with 1 Axes>"
      ]
     },
     "metadata": {
      "needs_background": "light"
     },
     "output_type": "display_data"
    }
   ],
   "source": [
    "ax  = df_model.plot.bar(rot=45)\n",
    "ax.legend(ncol= len(models.keys()), bbox_to_anchor=(0, 1), loc='lower left', prop={'size': 14})\n",
    "plt.tight_layout()"
   ]
  },
  {
   "cell_type": "code",
   "execution_count": 12,
   "id": "f2fda5c1",
   "metadata": {
    "execution": {
     "iopub.execute_input": "2022-06-12T15:56:03.217634Z",
     "iopub.status.busy": "2022-06-12T15:56:03.216575Z",
     "iopub.status.idle": "2022-06-12T15:56:08.632957Z",
     "shell.execute_reply": "2022-06-12T15:56:08.631777Z"
    },
    "papermill": {
     "duration": 5.435529,
     "end_time": "2022-06-12T15:56:08.640348",
     "exception": false,
     "start_time": "2022-06-12T15:56:03.204819",
     "status": "completed"
    },
    "tags": []
   },
   "outputs": [
    {
     "name": "stderr",
     "output_type": "stream",
     "text": [
      "/opt/conda/lib/python3.7/site-packages/sklearn/neural_network/_multilayer_perceptron.py:1109: DataConversionWarning: A column-vector y was passed when a 1d array was expected. Please change the shape of y to (n_samples, ), for example using ravel().\n",
      "  y = column_or_1d(y, warn=True)\n",
      "/opt/conda/lib/python3.7/site-packages/sklearn/neural_network/_multilayer_perceptron.py:549: ConvergenceWarning: lbfgs failed to converge (status=1):\n",
      "STOP: TOTAL NO. of ITERATIONS REACHED LIMIT.\n",
      "\n",
      "Increase the number of iterations (max_iter) or scale the data as shown in:\n",
      "    https://scikit-learn.org/stable/modules/preprocessing.html\n",
      "  self.n_iter_ = _check_optimize_result(\"lbfgs\", opt_res, self.max_iter)\n",
      "/opt/conda/lib/python3.7/site-packages/sklearn/neural_network/_multilayer_perceptron.py:1109: DataConversionWarning: A column-vector y was passed when a 1d array was expected. Please change the shape of y to (n_samples, ), for example using ravel().\n",
      "  y = column_or_1d(y, warn=True)\n",
      "/opt/conda/lib/python3.7/site-packages/sklearn/neural_network/_multilayer_perceptron.py:549: ConvergenceWarning: lbfgs failed to converge (status=1):\n",
      "STOP: TOTAL NO. of ITERATIONS REACHED LIMIT.\n",
      "\n",
      "Increase the number of iterations (max_iter) or scale the data as shown in:\n",
      "    https://scikit-learn.org/stable/modules/preprocessing.html\n",
      "  self.n_iter_ = _check_optimize_result(\"lbfgs\", opt_res, self.max_iter)\n",
      "/opt/conda/lib/python3.7/site-packages/sklearn/neural_network/_multilayer_perceptron.py:1109: DataConversionWarning: A column-vector y was passed when a 1d array was expected. Please change the shape of y to (n_samples, ), for example using ravel().\n",
      "  y = column_or_1d(y, warn=True)\n",
      "/opt/conda/lib/python3.7/site-packages/sklearn/neural_network/_multilayer_perceptron.py:549: ConvergenceWarning: lbfgs failed to converge (status=1):\n",
      "STOP: TOTAL NO. of ITERATIONS REACHED LIMIT.\n",
      "\n",
      "Increase the number of iterations (max_iter) or scale the data as shown in:\n",
      "    https://scikit-learn.org/stable/modules/preprocessing.html\n",
      "  self.n_iter_ = _check_optimize_result(\"lbfgs\", opt_res, self.max_iter)\n",
      "/opt/conda/lib/python3.7/site-packages/sklearn/neural_network/_multilayer_perceptron.py:1109: DataConversionWarning: A column-vector y was passed when a 1d array was expected. Please change the shape of y to (n_samples, ), for example using ravel().\n",
      "  y = column_or_1d(y, warn=True)\n",
      "/opt/conda/lib/python3.7/site-packages/sklearn/neural_network/_multilayer_perceptron.py:549: ConvergenceWarning: lbfgs failed to converge (status=1):\n",
      "STOP: TOTAL NO. of ITERATIONS REACHED LIMIT.\n",
      "\n",
      "Increase the number of iterations (max_iter) or scale the data as shown in:\n",
      "    https://scikit-learn.org/stable/modules/preprocessing.html\n",
      "  self.n_iter_ = _check_optimize_result(\"lbfgs\", opt_res, self.max_iter)\n",
      "/opt/conda/lib/python3.7/site-packages/sklearn/neural_network/_multilayer_perceptron.py:1109: DataConversionWarning: A column-vector y was passed when a 1d array was expected. Please change the shape of y to (n_samples, ), for example using ravel().\n",
      "  y = column_or_1d(y, warn=True)\n",
      "/opt/conda/lib/python3.7/site-packages/sklearn/neural_network/_multilayer_perceptron.py:549: ConvergenceWarning: lbfgs failed to converge (status=1):\n",
      "STOP: TOTAL NO. of ITERATIONS REACHED LIMIT.\n",
      "\n",
      "Increase the number of iterations (max_iter) or scale the data as shown in:\n",
      "    https://scikit-learn.org/stable/modules/preprocessing.html\n",
      "  self.n_iter_ = _check_optimize_result(\"lbfgs\", opt_res, self.max_iter)\n",
      "/opt/conda/lib/python3.7/site-packages/sklearn/neural_network/_multilayer_perceptron.py:1109: DataConversionWarning: A column-vector y was passed when a 1d array was expected. Please change the shape of y to (n_samples, ), for example using ravel().\n",
      "  y = column_or_1d(y, warn=True)\n",
      "/opt/conda/lib/python3.7/site-packages/sklearn/neural_network/_multilayer_perceptron.py:549: ConvergenceWarning: lbfgs failed to converge (status=1):\n",
      "STOP: TOTAL NO. of ITERATIONS REACHED LIMIT.\n",
      "\n",
      "Increase the number of iterations (max_iter) or scale the data as shown in:\n",
      "    https://scikit-learn.org/stable/modules/preprocessing.html\n",
      "  self.n_iter_ = _check_optimize_result(\"lbfgs\", opt_res, self.max_iter)\n",
      "/opt/conda/lib/python3.7/site-packages/sklearn/neural_network/_multilayer_perceptron.py:1109: DataConversionWarning: A column-vector y was passed when a 1d array was expected. Please change the shape of y to (n_samples, ), for example using ravel().\n",
      "  y = column_or_1d(y, warn=True)\n",
      "/opt/conda/lib/python3.7/site-packages/sklearn/neural_network/_multilayer_perceptron.py:549: ConvergenceWarning: lbfgs failed to converge (status=1):\n",
      "STOP: TOTAL NO. of ITERATIONS REACHED LIMIT.\n",
      "\n",
      "Increase the number of iterations (max_iter) or scale the data as shown in:\n",
      "    https://scikit-learn.org/stable/modules/preprocessing.html\n",
      "  self.n_iter_ = _check_optimize_result(\"lbfgs\", opt_res, self.max_iter)\n",
      "/opt/conda/lib/python3.7/site-packages/sklearn/neural_network/_multilayer_perceptron.py:1109: DataConversionWarning: A column-vector y was passed when a 1d array was expected. Please change the shape of y to (n_samples, ), for example using ravel().\n",
      "  y = column_or_1d(y, warn=True)\n",
      "/opt/conda/lib/python3.7/site-packages/sklearn/neural_network/_multilayer_perceptron.py:549: ConvergenceWarning: lbfgs failed to converge (status=1):\n",
      "STOP: TOTAL NO. of ITERATIONS REACHED LIMIT.\n",
      "\n",
      "Increase the number of iterations (max_iter) or scale the data as shown in:\n",
      "    https://scikit-learn.org/stable/modules/preprocessing.html\n",
      "  self.n_iter_ = _check_optimize_result(\"lbfgs\", opt_res, self.max_iter)\n",
      "/opt/conda/lib/python3.7/site-packages/sklearn/neural_network/_multilayer_perceptron.py:1109: DataConversionWarning: A column-vector y was passed when a 1d array was expected. Please change the shape of y to (n_samples, ), for example using ravel().\n",
      "  y = column_or_1d(y, warn=True)\n",
      "/opt/conda/lib/python3.7/site-packages/sklearn/neural_network/_multilayer_perceptron.py:549: ConvergenceWarning: lbfgs failed to converge (status=1):\n",
      "STOP: TOTAL NO. of ITERATIONS REACHED LIMIT.\n",
      "\n",
      "Increase the number of iterations (max_iter) or scale the data as shown in:\n",
      "    https://scikit-learn.org/stable/modules/preprocessing.html\n",
      "  self.n_iter_ = _check_optimize_result(\"lbfgs\", opt_res, self.max_iter)\n",
      "/opt/conda/lib/python3.7/site-packages/sklearn/neural_network/_multilayer_perceptron.py:1109: DataConversionWarning: A column-vector y was passed when a 1d array was expected. Please change the shape of y to (n_samples, ), for example using ravel().\n",
      "  y = column_or_1d(y, warn=True)\n"
     ]
    },
    {
     "name": "stdout",
     "output_type": "stream",
     "text": [
      "[0.96085409 0.95744681 0.97183099 0.97508897 0.95714286 0.9787234\n",
      " 0.96113074 0.93286219 0.97526502 0.98245614]\n",
      "0.9652801207203441\n"
     ]
    },
    {
     "name": "stderr",
     "output_type": "stream",
     "text": [
      "/opt/conda/lib/python3.7/site-packages/sklearn/neural_network/_multilayer_perceptron.py:549: ConvergenceWarning: lbfgs failed to converge (status=1):\n",
      "STOP: TOTAL NO. of ITERATIONS REACHED LIMIT.\n",
      "\n",
      "Increase the number of iterations (max_iter) or scale the data as shown in:\n",
      "    https://scikit-learn.org/stable/modules/preprocessing.html\n",
      "  self.n_iter_ = _check_optimize_result(\"lbfgs\", opt_res, self.max_iter)\n"
     ]
    }
   ],
   "source": [
    "from sklearn.model_selection import cross_val_score\n",
    "from sklearn.metrics import classification_report\n",
    "\n",
    "clf = models['NN3']\n",
    "scores = cross_val_score(clf, X_train, Y_train, cv=10, scoring='f1')\n",
    "\n",
    "print(scores)\n",
    "print(scores.mean())"
   ]
  },
  {
   "cell_type": "code",
   "execution_count": 13,
   "id": "46ea59af",
   "metadata": {
    "execution": {
     "iopub.execute_input": "2022-06-12T15:56:08.685984Z",
     "iopub.status.busy": "2022-06-12T15:56:08.685233Z",
     "iopub.status.idle": "2022-06-12T15:56:09.286641Z",
     "shell.execute_reply": "2022-06-12T15:56:09.284716Z"
    },
    "papermill": {
     "duration": 0.631036,
     "end_time": "2022-06-12T15:56:09.292161",
     "exception": false,
     "start_time": "2022-06-12T15:56:08.661125",
     "status": "completed"
    },
    "tags": []
   },
   "outputs": [
    {
     "name": "stderr",
     "output_type": "stream",
     "text": [
      "/opt/conda/lib/python3.7/site-packages/sklearn/neural_network/_multilayer_perceptron.py:1109: DataConversionWarning: A column-vector y was passed when a 1d array was expected. Please change the shape of y to (n_samples, ), for example using ravel().\n",
      "  y = column_or_1d(y, warn=True)\n"
     ]
    },
    {
     "name": "stdout",
     "output_type": "stream",
     "text": [
      "Training:0.9903811898824367\n",
      "Test:0.9807692307692307\n",
      "\n",
      "Train Set:\n",
      "              precision    recall  f1-score   support\n",
      "\n",
      "           0       0.99      0.99      0.99      4199\n",
      "           1       0.98      0.98      0.98      1415\n",
      "\n",
      "    accuracy                           0.99      5614\n",
      "   macro avg       0.99      0.99      0.99      5614\n",
      "weighted avg       0.99      0.99      0.99      5614\n",
      "\n",
      "Test Set:\n",
      "              precision    recall  f1-score   support\n",
      "\n",
      "           0       0.99      0.99      0.99      1397\n",
      "           1       0.96      0.96      0.96       475\n",
      "\n",
      "    accuracy                           0.98      1872\n",
      "   macro avg       0.98      0.97      0.97      1872\n",
      "weighted avg       0.98      0.98      0.98      1872\n",
      "\n"
     ]
    },
    {
     "name": "stderr",
     "output_type": "stream",
     "text": [
      "/opt/conda/lib/python3.7/site-packages/sklearn/neural_network/_multilayer_perceptron.py:549: ConvergenceWarning: lbfgs failed to converge (status=1):\n",
      "STOP: TOTAL NO. of ITERATIONS REACHED LIMIT.\n",
      "\n",
      "Increase the number of iterations (max_iter) or scale the data as shown in:\n",
      "    https://scikit-learn.org/stable/modules/preprocessing.html\n",
      "  self.n_iter_ = _check_optimize_result(\"lbfgs\", opt_res, self.max_iter)\n"
     ]
    }
   ],
   "source": [
    "#Train set 75%\n",
    "clf = clf.fit(X_train, Y_train)\n",
    "\n",
    "print(\"Training:\"+str(clf.score(X_train,Y_train)))\n",
    "print(\"Test:\"+str(clf.score(X_test,Y_test)))\n",
    "\n",
    "pred_train75 = clf.predict(X_train)\n",
    "\n",
    "pred_train25 = clf.predict(X_test)\n",
    "clf.predict_proba(X_test[:1])\n",
    "\n",
    "print(f'\\nTrain Set:\\n{classification_report(Y_train, pred_train75)}')\n",
    "print(f'Test Set:\\n{classification_report(Y_test, pred_train25)}')"
   ]
  },
  {
   "cell_type": "code",
   "execution_count": 14,
   "id": "21d7b834",
   "metadata": {
    "execution": {
     "iopub.execute_input": "2022-06-12T15:56:09.341715Z",
     "iopub.status.busy": "2022-06-12T15:56:09.339993Z",
     "iopub.status.idle": "2022-06-12T15:56:10.024634Z",
     "shell.execute_reply": "2022-06-12T15:56:10.022865Z"
    },
    "papermill": {
     "duration": 0.716752,
     "end_time": "2022-06-12T15:56:10.032944",
     "exception": false,
     "start_time": "2022-06-12T15:56:09.316192",
     "status": "completed"
    },
    "tags": []
   },
   "outputs": [
    {
     "name": "stderr",
     "output_type": "stream",
     "text": [
      "/opt/conda/lib/python3.7/site-packages/sklearn/neural_network/_multilayer_perceptron.py:1109: DataConversionWarning: A column-vector y was passed when a 1d array was expected. Please change the shape of y to (n_samples, ), for example using ravel().\n",
      "  y = column_or_1d(y, warn=True)\n"
     ]
    },
    {
     "name": "stdout",
     "output_type": "stream",
     "text": [
      "Training:0.9890462196099385\n",
      "\n",
      "All Train Set:\n",
      "              precision    recall  f1-score   support\n",
      "\n",
      "           0       0.99      0.99      0.99      5596\n",
      "           1       0.98      0.97      0.98      1890\n",
      "\n",
      "    accuracy                           0.99      7486\n",
      "   macro avg       0.99      0.98      0.99      7486\n",
      "weighted avg       0.99      0.99      0.99      7486\n",
      "\n"
     ]
    },
    {
     "name": "stderr",
     "output_type": "stream",
     "text": [
      "/opt/conda/lib/python3.7/site-packages/sklearn/neural_network/_multilayer_perceptron.py:549: ConvergenceWarning: lbfgs failed to converge (status=1):\n",
      "STOP: TOTAL NO. of ITERATIONS REACHED LIMIT.\n",
      "\n",
      "Increase the number of iterations (max_iter) or scale the data as shown in:\n",
      "    https://scikit-learn.org/stable/modules/preprocessing.html\n",
      "  self.n_iter_ = _check_optimize_result(\"lbfgs\", opt_res, self.max_iter)\n"
     ]
    }
   ],
   "source": [
    "#Train set 100%\n",
    "clf = clf.fit(X, Y)\n",
    "\n",
    "print(\"Training:\"+str(clf.score(X,Y)))\n",
    "\n",
    "pred_train100 = clf.predict(X)\n",
    "print(f'\\nAll Train Set:\\n{classification_report(Y, pred_train100)}')"
   ]
  },
  {
   "cell_type": "code",
   "execution_count": 15,
   "id": "58a3aec4",
   "metadata": {
    "execution": {
     "iopub.execute_input": "2022-06-12T15:56:10.082315Z",
     "iopub.status.busy": "2022-06-12T15:56:10.081521Z",
     "iopub.status.idle": "2022-06-12T15:56:16.135943Z",
     "shell.execute_reply": "2022-06-12T15:56:16.133977Z"
    },
    "papermill": {
     "duration": 6.085563,
     "end_time": "2022-06-12T15:56:16.140583",
     "exception": false,
     "start_time": "2022-06-12T15:56:10.055020",
     "status": "completed"
    },
    "tags": []
   },
   "outputs": [
    {
     "name": "stderr",
     "output_type": "stream",
     "text": [
      "/opt/conda/lib/python3.7/site-packages/sklearn/neural_network/_multilayer_perceptron.py:1109: DataConversionWarning: A column-vector y was passed when a 1d array was expected. Please change the shape of y to (n_samples, ), for example using ravel().\n",
      "  y = column_or_1d(y, warn=True)\n",
      "/opt/conda/lib/python3.7/site-packages/sklearn/neural_network/_multilayer_perceptron.py:549: ConvergenceWarning: lbfgs failed to converge (status=1):\n",
      "STOP: TOTAL NO. of ITERATIONS REACHED LIMIT.\n",
      "\n",
      "Increase the number of iterations (max_iter) or scale the data as shown in:\n",
      "    https://scikit-learn.org/stable/modules/preprocessing.html\n",
      "  self.n_iter_ = _check_optimize_result(\"lbfgs\", opt_res, self.max_iter)\n",
      "/opt/conda/lib/python3.7/site-packages/sklearn/neural_network/_multilayer_perceptron.py:1109: DataConversionWarning: A column-vector y was passed when a 1d array was expected. Please change the shape of y to (n_samples, ), for example using ravel().\n",
      "  y = column_or_1d(y, warn=True)\n",
      "/opt/conda/lib/python3.7/site-packages/sklearn/neural_network/_multilayer_perceptron.py:549: ConvergenceWarning: lbfgs failed to converge (status=1):\n",
      "STOP: TOTAL NO. of ITERATIONS REACHED LIMIT.\n",
      "\n",
      "Increase the number of iterations (max_iter) or scale the data as shown in:\n",
      "    https://scikit-learn.org/stable/modules/preprocessing.html\n",
      "  self.n_iter_ = _check_optimize_result(\"lbfgs\", opt_res, self.max_iter)\n",
      "/opt/conda/lib/python3.7/site-packages/sklearn/neural_network/_multilayer_perceptron.py:1109: DataConversionWarning: A column-vector y was passed when a 1d array was expected. Please change the shape of y to (n_samples, ), for example using ravel().\n",
      "  y = column_or_1d(y, warn=True)\n",
      "/opt/conda/lib/python3.7/site-packages/sklearn/neural_network/_multilayer_perceptron.py:549: ConvergenceWarning: lbfgs failed to converge (status=1):\n",
      "STOP: TOTAL NO. of ITERATIONS REACHED LIMIT.\n",
      "\n",
      "Increase the number of iterations (max_iter) or scale the data as shown in:\n",
      "    https://scikit-learn.org/stable/modules/preprocessing.html\n",
      "  self.n_iter_ = _check_optimize_result(\"lbfgs\", opt_res, self.max_iter)\n",
      "/opt/conda/lib/python3.7/site-packages/sklearn/neural_network/_multilayer_perceptron.py:1109: DataConversionWarning: A column-vector y was passed when a 1d array was expected. Please change the shape of y to (n_samples, ), for example using ravel().\n",
      "  y = column_or_1d(y, warn=True)\n",
      "/opt/conda/lib/python3.7/site-packages/sklearn/neural_network/_multilayer_perceptron.py:549: ConvergenceWarning: lbfgs failed to converge (status=1):\n",
      "STOP: TOTAL NO. of ITERATIONS REACHED LIMIT.\n",
      "\n",
      "Increase the number of iterations (max_iter) or scale the data as shown in:\n",
      "    https://scikit-learn.org/stable/modules/preprocessing.html\n",
      "  self.n_iter_ = _check_optimize_result(\"lbfgs\", opt_res, self.max_iter)\n",
      "/opt/conda/lib/python3.7/site-packages/sklearn/neural_network/_multilayer_perceptron.py:1109: DataConversionWarning: A column-vector y was passed when a 1d array was expected. Please change the shape of y to (n_samples, ), for example using ravel().\n",
      "  y = column_or_1d(y, warn=True)\n",
      "/opt/conda/lib/python3.7/site-packages/sklearn/neural_network/_multilayer_perceptron.py:549: ConvergenceWarning: lbfgs failed to converge (status=1):\n",
      "STOP: TOTAL NO. of ITERATIONS REACHED LIMIT.\n",
      "\n",
      "Increase the number of iterations (max_iter) or scale the data as shown in:\n",
      "    https://scikit-learn.org/stable/modules/preprocessing.html\n",
      "  self.n_iter_ = _check_optimize_result(\"lbfgs\", opt_res, self.max_iter)\n",
      "/opt/conda/lib/python3.7/site-packages/sklearn/neural_network/_multilayer_perceptron.py:1109: DataConversionWarning: A column-vector y was passed when a 1d array was expected. Please change the shape of y to (n_samples, ), for example using ravel().\n",
      "  y = column_or_1d(y, warn=True)\n",
      "/opt/conda/lib/python3.7/site-packages/sklearn/neural_network/_multilayer_perceptron.py:549: ConvergenceWarning: lbfgs failed to converge (status=1):\n",
      "STOP: TOTAL NO. of ITERATIONS REACHED LIMIT.\n",
      "\n",
      "Increase the number of iterations (max_iter) or scale the data as shown in:\n",
      "    https://scikit-learn.org/stable/modules/preprocessing.html\n",
      "  self.n_iter_ = _check_optimize_result(\"lbfgs\", opt_res, self.max_iter)\n",
      "/opt/conda/lib/python3.7/site-packages/sklearn/neural_network/_multilayer_perceptron.py:1109: DataConversionWarning: A column-vector y was passed when a 1d array was expected. Please change the shape of y to (n_samples, ), for example using ravel().\n",
      "  y = column_or_1d(y, warn=True)\n",
      "/opt/conda/lib/python3.7/site-packages/sklearn/neural_network/_multilayer_perceptron.py:549: ConvergenceWarning: lbfgs failed to converge (status=1):\n",
      "STOP: TOTAL NO. of ITERATIONS REACHED LIMIT.\n",
      "\n",
      "Increase the number of iterations (max_iter) or scale the data as shown in:\n",
      "    https://scikit-learn.org/stable/modules/preprocessing.html\n",
      "  self.n_iter_ = _check_optimize_result(\"lbfgs\", opt_res, self.max_iter)\n",
      "/opt/conda/lib/python3.7/site-packages/sklearn/neural_network/_multilayer_perceptron.py:1109: DataConversionWarning: A column-vector y was passed when a 1d array was expected. Please change the shape of y to (n_samples, ), for example using ravel().\n",
      "  y = column_or_1d(y, warn=True)\n",
      "/opt/conda/lib/python3.7/site-packages/sklearn/neural_network/_multilayer_perceptron.py:549: ConvergenceWarning: lbfgs failed to converge (status=1):\n",
      "STOP: TOTAL NO. of ITERATIONS REACHED LIMIT.\n",
      "\n",
      "Increase the number of iterations (max_iter) or scale the data as shown in:\n",
      "    https://scikit-learn.org/stable/modules/preprocessing.html\n",
      "  self.n_iter_ = _check_optimize_result(\"lbfgs\", opt_res, self.max_iter)\n",
      "/opt/conda/lib/python3.7/site-packages/sklearn/neural_network/_multilayer_perceptron.py:1109: DataConversionWarning: A column-vector y was passed when a 1d array was expected. Please change the shape of y to (n_samples, ), for example using ravel().\n",
      "  y = column_or_1d(y, warn=True)\n",
      "/opt/conda/lib/python3.7/site-packages/sklearn/neural_network/_multilayer_perceptron.py:549: ConvergenceWarning: lbfgs failed to converge (status=1):\n",
      "STOP: TOTAL NO. of ITERATIONS REACHED LIMIT.\n",
      "\n",
      "Increase the number of iterations (max_iter) or scale the data as shown in:\n",
      "    https://scikit-learn.org/stable/modules/preprocessing.html\n",
      "  self.n_iter_ = _check_optimize_result(\"lbfgs\", opt_res, self.max_iter)\n",
      "/opt/conda/lib/python3.7/site-packages/sklearn/neural_network/_multilayer_perceptron.py:1109: DataConversionWarning: A column-vector y was passed when a 1d array was expected. Please change the shape of y to (n_samples, ), for example using ravel().\n",
      "  y = column_or_1d(y, warn=True)\n"
     ]
    },
    {
     "name": "stdout",
     "output_type": "stream",
     "text": [
      "[0.96569921 0.96891192 0.96533333 0.97368421 0.96825397 0.9703504\n",
      " 0.97340426 0.97311828 0.95934959 0.95514512]\n",
      "0.9673250289086489\n"
     ]
    },
    {
     "name": "stderr",
     "output_type": "stream",
     "text": [
      "/opt/conda/lib/python3.7/site-packages/sklearn/neural_network/_multilayer_perceptron.py:549: ConvergenceWarning: lbfgs failed to converge (status=1):\n",
      "STOP: TOTAL NO. of ITERATIONS REACHED LIMIT.\n",
      "\n",
      "Increase the number of iterations (max_iter) or scale the data as shown in:\n",
      "    https://scikit-learn.org/stable/modules/preprocessing.html\n",
      "  self.n_iter_ = _check_optimize_result(\"lbfgs\", opt_res, self.max_iter)\n"
     ]
    }
   ],
   "source": [
    "from sklearn.model_selection import cross_val_score\n",
    "\n",
    "scores = cross_val_score(clf, X, Y, cv=10, scoring='f1')\n",
    "print(scores)\n",
    "print(scores.mean())\n"
   ]
  },
  {
   "cell_type": "markdown",
   "id": "9a6ee957",
   "metadata": {
    "papermill": {
     "duration": 0.024147,
     "end_time": "2022-06-12T15:56:16.190837",
     "exception": false,
     "start_time": "2022-06-12T15:56:16.166690",
     "status": "completed"
    },
    "tags": []
   },
   "source": [
    "# Test Dataset"
   ]
  },
  {
   "cell_type": "code",
   "execution_count": 16,
   "id": "0b271d1b",
   "metadata": {
    "execution": {
     "iopub.execute_input": "2022-06-12T15:56:16.240229Z",
     "iopub.status.busy": "2022-06-12T15:56:16.239719Z",
     "iopub.status.idle": "2022-06-12T15:56:16.260914Z",
     "shell.execute_reply": "2022-06-12T15:56:16.259561Z"
    },
    "papermill": {
     "duration": 0.048141,
     "end_time": "2022-06-12T15:56:16.263798",
     "exception": false,
     "start_time": "2022-06-12T15:56:16.215657",
     "status": "completed"
    },
    "tags": []
   },
   "outputs": [
    {
     "data": {
      "text/html": [
       "<div>\n",
       "<style scoped>\n",
       "    .dataframe tbody tr th:only-of-type {\n",
       "        vertical-align: middle;\n",
       "    }\n",
       "\n",
       "    .dataframe tbody tr th {\n",
       "        vertical-align: top;\n",
       "    }\n",
       "\n",
       "    .dataframe thead th {\n",
       "        text-align: right;\n",
       "    }\n",
       "</style>\n",
       "<table border=\"1\" class=\"dataframe\">\n",
       "  <thead>\n",
       "    <tr style=\"text-align: right;\">\n",
       "      <th></th>\n",
       "      <th>x2</th>\n",
       "      <th>x3</th>\n",
       "      <th>x6</th>\n",
       "      <th>x7</th>\n",
       "      <th>x8</th>\n",
       "      <th>x9</th>\n",
       "      <th>x10</th>\n",
       "      <th>x12</th>\n",
       "      <th>x14</th>\n",
       "      <th>x15</th>\n",
       "    </tr>\n",
       "  </thead>\n",
       "  <tbody>\n",
       "    <tr>\n",
       "      <th>0</th>\n",
       "      <td>-413.657030</td>\n",
       "      <td>17.037929</td>\n",
       "      <td>704.164878</td>\n",
       "      <td>-269.815659</td>\n",
       "      <td>13.503896</td>\n",
       "      <td>60805.03782</td>\n",
       "      <td>31.065906</td>\n",
       "      <td>5.150013</td>\n",
       "      <td>174.281276</td>\n",
       "      <td>19.959450</td>\n",
       "    </tr>\n",
       "    <tr>\n",
       "      <th>1</th>\n",
       "      <td>-235.197680</td>\n",
       "      <td>53.670585</td>\n",
       "      <td>1226.941573</td>\n",
       "      <td>-184.656449</td>\n",
       "      <td>7.034055</td>\n",
       "      <td>55445.68723</td>\n",
       "      <td>15.189238</td>\n",
       "      <td>3.880180</td>\n",
       "      <td>32.216142</td>\n",
       "      <td>17.054081</td>\n",
       "    </tr>\n",
       "    <tr>\n",
       "      <th>2</th>\n",
       "      <td>-192.880170</td>\n",
       "      <td>38.687566</td>\n",
       "      <td>940.690132</td>\n",
       "      <td>-182.564985</td>\n",
       "      <td>17.218596</td>\n",
       "      <td>31562.61815</td>\n",
       "      <td>34.769586</td>\n",
       "      <td>4.885215</td>\n",
       "      <td>181.736690</td>\n",
       "      <td>20.479688</td>\n",
       "    </tr>\n",
       "    <tr>\n",
       "      <th>3</th>\n",
       "      <td>-204.849932</td>\n",
       "      <td>50.837951</td>\n",
       "      <td>794.581702</td>\n",
       "      <td>-245.911853</td>\n",
       "      <td>9.936746</td>\n",
       "      <td>47299.76010</td>\n",
       "      <td>25.565751</td>\n",
       "      <td>7.156563</td>\n",
       "      <td>127.570137</td>\n",
       "      <td>20.904829</td>\n",
       "    </tr>\n",
       "    <tr>\n",
       "      <th>4</th>\n",
       "      <td>-141.457819</td>\n",
       "      <td>53.246627</td>\n",
       "      <td>543.441438</td>\n",
       "      <td>-302.081360</td>\n",
       "      <td>21.861266</td>\n",
       "      <td>66725.53006</td>\n",
       "      <td>34.796947</td>\n",
       "      <td>4.743589</td>\n",
       "      <td>119.269139</td>\n",
       "      <td>19.826086</td>\n",
       "    </tr>\n",
       "  </tbody>\n",
       "</table>\n",
       "</div>"
      ],
      "text/plain": [
       "           x2         x3           x6          x7         x8           x9  \\\n",
       "0 -413.657030  17.037929   704.164878 -269.815659  13.503896  60805.03782   \n",
       "1 -235.197680  53.670585  1226.941573 -184.656449   7.034055  55445.68723   \n",
       "2 -192.880170  38.687566   940.690132 -182.564985  17.218596  31562.61815   \n",
       "3 -204.849932  50.837951   794.581702 -245.911853   9.936746  47299.76010   \n",
       "4 -141.457819  53.246627   543.441438 -302.081360  21.861266  66725.53006   \n",
       "\n",
       "         x10       x12         x14        x15  \n",
       "0  31.065906  5.150013  174.281276  19.959450  \n",
       "1  15.189238  3.880180   32.216142  17.054081  \n",
       "2  34.769586  4.885215  181.736690  20.479688  \n",
       "3  25.565751  7.156563  127.570137  20.904829  \n",
       "4  34.796947  4.743589  119.269139  19.826086  "
      ]
     },
     "execution_count": 16,
     "metadata": {},
     "output_type": "execute_result"
    }
   ],
   "source": [
    "# Copying original dataframe\n",
    "test_df_ready = test_df.loc[:,num_cols]\n",
    "test_df_ready.head()"
   ]
  },
  {
   "cell_type": "code",
   "execution_count": 17,
   "id": "3f8acf61",
   "metadata": {
    "execution": {
     "iopub.execute_input": "2022-06-12T15:56:16.292737Z",
     "iopub.status.busy": "2022-06-12T15:56:16.292236Z",
     "iopub.status.idle": "2022-06-12T15:56:16.309631Z",
     "shell.execute_reply": "2022-06-12T15:56:16.308444Z"
    },
    "papermill": {
     "duration": 0.037908,
     "end_time": "2022-06-12T15:56:16.315397",
     "exception": false,
     "start_time": "2022-06-12T15:56:16.277489",
     "status": "completed"
    },
    "tags": []
   },
   "outputs": [
    {
     "name": "stdout",
     "output_type": "stream",
     "text": [
      "           x2         x3           x6          x7         x8           x9  \\\n",
      "0 -413.657030  17.037929   704.164878 -269.815659  13.503896  60805.03782   \n",
      "1 -235.197680  53.670585  1226.941573 -184.656449   7.034055  55445.68723   \n",
      "2 -192.880170  38.687566   940.690132 -182.564985  17.218596  31562.61815   \n",
      "3 -204.849932  50.837951   794.581702 -245.911853   9.936746  47299.76010   \n",
      "4 -141.457819  53.246627   543.441438 -302.081360  21.861266  66725.53006   \n",
      "\n",
      "         x10       x12         x14        x15  \n",
      "0  31.065906  5.150013  174.281276  19.959450  \n",
      "1  15.189238  3.880180   32.216142  17.054081  \n",
      "2  34.769586  4.885215  181.736690  20.479688  \n",
      "3  25.565751  7.156563  127.570137  20.904829  \n",
      "4  34.796947  4.743589  119.269139  19.826086  \n"
     ]
    }
   ],
   "source": [
    "x_test = test_df_ready\n",
    "print(x_test.head())\n",
    "\n",
    "pred_final = clf.predict(x_test)"
   ]
  },
  {
   "cell_type": "code",
   "execution_count": 18,
   "id": "edc84747",
   "metadata": {
    "execution": {
     "iopub.execute_input": "2022-06-12T15:56:16.371407Z",
     "iopub.status.busy": "2022-06-12T15:56:16.370535Z",
     "iopub.status.idle": "2022-06-12T15:56:16.416564Z",
     "shell.execute_reply": "2022-06-12T15:56:16.415121Z"
    },
    "papermill": {
     "duration": 0.079556,
     "end_time": "2022-06-12T15:56:16.421306",
     "exception": false,
     "start_time": "2022-06-12T15:56:16.341750",
     "status": "completed"
    },
    "tags": []
   },
   "outputs": [
    {
     "name": "stdout",
     "output_type": "stream",
     "text": [
      "   id  Expected\n",
      "0   1         1\n",
      "1   2         1\n",
      "2   3         0\n",
      "3   4         0\n",
      "4   5         0\n"
     ]
    }
   ],
   "source": [
    "# output\n",
    "fields = ['id','Expected']\n",
    "df = pd.DataFrame()\n",
    "id = list(range(1,2501))\n",
    "df['id']=pd.Series(id)\n",
    "df['Expected']=pd.Series(pred_final)\n",
    "df.to_csv('submit.csv', index=False)\n",
    "\n",
    "print(df.head())"
   ]
  },
  {
   "cell_type": "code",
   "execution_count": 19,
   "id": "55e121bd",
   "metadata": {
    "execution": {
     "iopub.execute_input": "2022-06-12T15:56:16.452735Z",
     "iopub.status.busy": "2022-06-12T15:56:16.452254Z",
     "iopub.status.idle": "2022-06-12T15:56:16.646832Z",
     "shell.execute_reply": "2022-06-12T15:56:16.645103Z"
    },
    "papermill": {
     "duration": 0.212784,
     "end_time": "2022-06-12T15:56:16.650109",
     "exception": false,
     "start_time": "2022-06-12T15:56:16.437325",
     "status": "completed"
    },
    "tags": []
   },
   "outputs": [
    {
     "data": {
      "image/png": "[encoded data removed]",
      "text/plain": [
       "<Figure size 432x288 with 1 Axes>"
      ]
     },
     "metadata": {
      "needs_background": "light"
     },
     "output_type": "display_data"
    },
    {
     "name": "stdout",
     "output_type": "stream",
     "text": [
      "% of y_1 in train dataset:  25.0\n",
      "% of y_0 in train dataset:  75.0\n"
     ]
    }
   ],
   "source": [
    "# Test set plot\n",
    "fig , ax = plt.subplots(figsize=(6,4))\n",
    "sns.countplot(x=\"Expected\",data=df)\n",
    "plt.title(\"Count of Y\")\n",
    "plt.show()\n",
    "\n",
    "n=len(df)\n",
    "y_0=len(df[df['Expected']==0])\n",
    "y_1=len(df[df['Expected']==1])\n",
    "\n",
    "print(\"% of y_1 in train dataset: \",y_1*100/n)\n",
    "print(\"% of y_0 in train dataset: \",y_0*100/n)"
   ]
  }
 ],
 "metadata": {
  "kernelspec": {
   "display_name": "Python 3 (ipykernel)",
   "language": "python",
   "name": "python3"
  },
  "language_info": {
   "codemirror_mode": {
    "name": "ipython",
    "version": 3
   },
   "file_extension": ".py",
   "mimetype": "text/x-python",
   "name": "python",
   "nbconvert_exporter": "python",
   "pygments_lexer": "ipython3",
   "version": "3.8.8"
  },
  "papermill": {
   "default_parameters": {},
   "duration": 33.830546,
   "end_time": "2022-06-12T15:56:17.790305",
   "environment_variables": {},
   "exception": null,
   "input_path": "__notebook__.ipynb",
   "output_path": "__notebook__.ipynb",
   "parameters": {},
   "start_time": "2022-06-12T15:55:43.959759",
   "version": "2.3.4"
  }
 },
 "nbformat": 4,
 "nbformat_minor": 5
}
